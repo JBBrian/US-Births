{
 "cells": [
  {
   "cell_type": "code",
   "execution_count": 22,
   "metadata": {},
   "outputs": [],
   "source": [
    "import pandas as pd\n",
    "from matplotlib import pyplot as plt"
   ]
  },
  {
   "cell_type": "code",
   "execution_count": 23,
   "metadata": {},
   "outputs": [
    {
     "data": {
      "text/html": [
       "<div>\n",
       "<style scoped>\n",
       "    .dataframe tbody tr th:only-of-type {\n",
       "        vertical-align: middle;\n",
       "    }\n",
       "\n",
       "    .dataframe tbody tr th {\n",
       "        vertical-align: top;\n",
       "    }\n",
       "\n",
       "    .dataframe thead th {\n",
       "        text-align: right;\n",
       "    }\n",
       "</style>\n",
       "<table border=\"1\" class=\"dataframe\">\n",
       "  <thead>\n",
       "    <tr style=\"text-align: right;\">\n",
       "      <th></th>\n",
       "      <th>State</th>\n",
       "      <th>State Abbreviation</th>\n",
       "      <th>Year</th>\n",
       "      <th>Gender</th>\n",
       "      <th>Education Level of Mother</th>\n",
       "      <th>Education Level Code</th>\n",
       "      <th>Number of Births</th>\n",
       "      <th>Average Age of Mother (years)</th>\n",
       "      <th>Average Birth Weight (g)</th>\n",
       "    </tr>\n",
       "  </thead>\n",
       "  <tbody>\n",
       "    <tr>\n",
       "      <th>0</th>\n",
       "      <td>Alabama</td>\n",
       "      <td>AL</td>\n",
       "      <td>2016</td>\n",
       "      <td>F</td>\n",
       "      <td>8th grade or less</td>\n",
       "      <td>1</td>\n",
       "      <td>1052</td>\n",
       "      <td>27.8</td>\n",
       "      <td>3116.9</td>\n",
       "    </tr>\n",
       "    <tr>\n",
       "      <th>1</th>\n",
       "      <td>Alabama</td>\n",
       "      <td>AL</td>\n",
       "      <td>2016</td>\n",
       "      <td>F</td>\n",
       "      <td>9th through 12th grade with no diploma</td>\n",
       "      <td>2</td>\n",
       "      <td>3436</td>\n",
       "      <td>24.1</td>\n",
       "      <td>3040.0</td>\n",
       "    </tr>\n",
       "    <tr>\n",
       "      <th>2</th>\n",
       "      <td>Alabama</td>\n",
       "      <td>AL</td>\n",
       "      <td>2016</td>\n",
       "      <td>F</td>\n",
       "      <td>High school graduate or GED completed</td>\n",
       "      <td>3</td>\n",
       "      <td>8777</td>\n",
       "      <td>25.4</td>\n",
       "      <td>3080.0</td>\n",
       "    </tr>\n",
       "    <tr>\n",
       "      <th>3</th>\n",
       "      <td>Alabama</td>\n",
       "      <td>AL</td>\n",
       "      <td>2016</td>\n",
       "      <td>F</td>\n",
       "      <td>Some college credit, but not a degree</td>\n",
       "      <td>4</td>\n",
       "      <td>6453</td>\n",
       "      <td>26.7</td>\n",
       "      <td>3121.9</td>\n",
       "    </tr>\n",
       "    <tr>\n",
       "      <th>4</th>\n",
       "      <td>Alabama</td>\n",
       "      <td>AL</td>\n",
       "      <td>2016</td>\n",
       "      <td>F</td>\n",
       "      <td>Associate degree (AA, AS)</td>\n",
       "      <td>5</td>\n",
       "      <td>2227</td>\n",
       "      <td>28.9</td>\n",
       "      <td>3174.3</td>\n",
       "    </tr>\n",
       "  </tbody>\n",
       "</table>\n",
       "</div>"
      ],
      "text/plain": [
       "     State State Abbreviation  Year Gender  \\\n",
       "0  Alabama                 AL  2016      F   \n",
       "1  Alabama                 AL  2016      F   \n",
       "2  Alabama                 AL  2016      F   \n",
       "3  Alabama                 AL  2016      F   \n",
       "4  Alabama                 AL  2016      F   \n",
       "\n",
       "                Education Level of Mother  Education Level Code  \\\n",
       "0                       8th grade or less                     1   \n",
       "1  9th through 12th grade with no diploma                     2   \n",
       "2   High school graduate or GED completed                     3   \n",
       "3   Some college credit, but not a degree                     4   \n",
       "4               Associate degree (AA, AS)                     5   \n",
       "\n",
       "   Number of Births  Average Age of Mother (years)  Average Birth Weight (g)  \n",
       "0              1052                           27.8                    3116.9  \n",
       "1              3436                           24.1                    3040.0  \n",
       "2              8777                           25.4                    3080.0  \n",
       "3              6453                           26.7                    3121.9  \n",
       "4              2227                           28.9                    3174.3  "
      ]
     },
     "execution_count": 23,
     "metadata": {},
     "output_type": "execute_result"
    }
   ],
   "source": [
    "# importing data and previewing\n",
    "data = pd.read_csv('us_births_2016_2021.csv')\n",
    "data.head()"
   ]
  },
  {
   "attachments": {},
   "cell_type": "markdown",
   "metadata": {},
   "source": [
    "# Exploring data"
   ]
  },
  {
   "cell_type": "code",
   "execution_count": 24,
   "metadata": {},
   "outputs": [
    {
     "data": {
      "text/plain": [
       "(5496, 9)"
      ]
     },
     "execution_count": 24,
     "metadata": {},
     "output_type": "execute_result"
    }
   ],
   "source": [
    "data.shape\n",
    "\n",
    "# 5496 rows, 9 columns"
   ]
  },
  {
   "cell_type": "code",
   "execution_count": 25,
   "metadata": {},
   "outputs": [
    {
     "data": {
      "text/plain": [
       "<bound method DataFrame.info of         State State Abbreviation  Year Gender  \\\n",
       "0     Alabama                 AL  2016      F   \n",
       "1     Alabama                 AL  2016      F   \n",
       "2     Alabama                 AL  2016      F   \n",
       "3     Alabama                 AL  2016      F   \n",
       "4     Alabama                 AL  2016      F   \n",
       "...       ...                ...   ...    ...   \n",
       "5491  Wyoming                 WY  2021      M   \n",
       "5492  Wyoming                 WY  2021      M   \n",
       "5493  Wyoming                 WY  2021      M   \n",
       "5494  Wyoming                 WY  2021      M   \n",
       "5495  Wyoming                 WY  2021      M   \n",
       "\n",
       "                              Education Level of Mother  Education Level Code  \\\n",
       "0                                     8th grade or less                     1   \n",
       "1                9th through 12th grade with no diploma                     2   \n",
       "2                 High school graduate or GED completed                     3   \n",
       "3                 Some college credit, but not a degree                     4   \n",
       "4                             Associate degree (AA, AS)                     5   \n",
       "...                                                 ...                   ...   \n",
       "5491                          Associate degree (AA, AS)                     5   \n",
       "5492                     Bachelor's degree (BA, AB, BS)                     6   \n",
       "5493      Master's degree (MA, MS, MEng, MEd, MSW, MBA)                     7   \n",
       "5494  Doctorate (PhD, EdD) or Professional Degree (M...                     8   \n",
       "5495                              Unknown or Not Stated                    -9   \n",
       "\n",
       "      Number of Births  Average Age of Mother (years)  \\\n",
       "0                 1052                           27.8   \n",
       "1                 3436                           24.1   \n",
       "2                 8777                           25.4   \n",
       "3                 6453                           26.7   \n",
       "4                 2227                           28.9   \n",
       "...                ...                            ...   \n",
       "5491               401                           29.2   \n",
       "5492               657                           30.7   \n",
       "5493               261                           33.0   \n",
       "5494                72                           33.3   \n",
       "5495                41                           29.2   \n",
       "\n",
       "      Average Birth Weight (g)  \n",
       "0                       3116.9  \n",
       "1                       3040.0  \n",
       "2                       3080.0  \n",
       "3                       3121.9  \n",
       "4                       3174.3  \n",
       "...                        ...  \n",
       "5491                    3261.1  \n",
       "5492                    3286.0  \n",
       "5493                    3249.3  \n",
       "5494                    3262.0  \n",
       "5495                    3177.5  \n",
       "\n",
       "[5496 rows x 9 columns]>"
      ]
     },
     "execution_count": 25,
     "metadata": {},
     "output_type": "execute_result"
    }
   ],
   "source": [
    "# Data summary/preview\n",
    "data.info"
   ]
  },
  {
   "cell_type": "code",
   "execution_count": 26,
   "metadata": {},
   "outputs": [],
   "source": [
    "data.rename(columns={'Gender': 'Sex'}, inplace=True)"
   ]
  },
  {
   "cell_type": "code",
   "execution_count": 27,
   "metadata": {},
   "outputs": [
    {
     "data": {
      "text/plain": [
       "M    2749\n",
       "F    2747\n",
       "Name: Sex, dtype: int64"
      ]
     },
     "execution_count": 27,
     "metadata": {},
     "output_type": "execute_result"
    }
   ],
   "source": [
    "# Examining sex ratio\n",
    "data['Sex'].value_counts()\n"
   ]
  },
  {
   "cell_type": "code",
   "execution_count": 56,
   "metadata": {},
   "outputs": [
    {
     "data": {
      "image/png": "[encoded data removed]",
      "text/plain": [
       "<Figure size 640x480 with 1 Axes>"
      ]
     },
     "metadata": {},
     "output_type": "display_data"
    }
   ],
   "source": [
    "# Comparing columns\n",
    "plt.bar(data['Sex'], data['Average Birth Weight (g)'])\n",
    "plt.show()"
   ]
  },
  {
   "cell_type": "code",
   "execution_count": 54,
   "metadata": {},
   "outputs": [
    {
     "data": {
      "image/png": "[encoded data removed]",
      "text/plain": [
       "<Figure size 640x480 with 1 Axes>"
      ]
     },
     "metadata": {},
     "output_type": "display_data"
    }
   ],
   "source": [
    "plt.bar(data['Education Level of Mother'], data['Number of Births'])\n",
    "plt.show()"
   ]
  },
  {
   "cell_type": "code",
   "execution_count": 29,
   "metadata": {},
   "outputs": [
    {
     "data": {
      "text/plain": [
       "State                                                         District of Columbia\n",
       "State Abbreviation                                                              DC\n",
       "Year                                                                          2018\n",
       "Sex                                                                              F\n",
       "Education Level of Mother        Doctorate (PhD, EdD) or Professional Degree (M...\n",
       "Education Level Code                                                             8\n",
       "Number of Births                                                               528\n",
       "Average Age of Mother (years)                                                 35.5\n",
       "Average Birth Weight (g)                                                    3238.3\n",
       "Name: 907, dtype: object"
      ]
     },
     "execution_count": 29,
     "metadata": {},
     "output_type": "execute_result"
    }
   ],
   "source": [
    "# Locating the max age in data set\n",
    "data.loc[data['Average Age of Mother (years)'].idxmax()]"
   ]
  },
  {
   "cell_type": "code",
   "execution_count": 30,
   "metadata": {},
   "outputs": [
    {
     "data": {
      "text/plain": [
       "State                                                           Wyoming\n",
       "State Abbreviation                                                   WY\n",
       "Year                                                               2021\n",
       "Sex                                                                   F\n",
       "Education Level of Mother        9th through 12th grade with no diploma\n",
       "Education Level Code                                                  2\n",
       "Number of Births                                                    221\n",
       "Average Age of Mother (years)                                      23.1\n",
       "Average Birth Weight (g)                                         3045.2\n",
       "Name: 5479, dtype: object"
      ]
     },
     "execution_count": 30,
     "metadata": {},
     "output_type": "execute_result"
    }
   ],
   "source": [
    "# Locating the min age in data set\n",
    "data.loc[data['Average Age of Mother (years)'].idxmin()]"
   ]
  },
  {
   "cell_type": "code",
   "execution_count": 31,
   "metadata": {},
   "outputs": [],
   "source": [
    "# writing data to excel for Tableau\n",
    "data.to_excel('baby_data.xlsx', sheet_name='Data')\n"
   ]
  }
 ],
 "metadata": {
  "kernelspec": {
   "display_name": "Python 3",
   "language": "python",
   "name": "python3"
  },
  "language_info": {
   "codemirror_mode": {
    "name": "ipython",
    "version": 3
   },
   "file_extension": ".py",
   "mimetype": "text/x-python",
   "name": "python",
   "nbconvert_exporter": "python",
   "pygments_lexer": "ipython3",
   "version": "3.10.8"
  },
  "orig_nbformat": 4
 },
 "nbformat": 4,
 "nbformat_minor": 2
}
